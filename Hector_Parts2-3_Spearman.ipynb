{
 "cells": [
  {
   "cell_type": "code",
   "execution_count": null,
   "metadata": {},
   "outputs": [],
   "source": [
    "#import nltk\n",
    "#nltk.download('wordnet_ic')\n",
    "from nltk.corpus import wordnet, wordnet_ic\n",
    "import pandas as pd\n",
    "import csv\n",
    "import scipy.stats\n",
    "import re"
   ]
  },
  {
   "cell_type": "code",
   "execution_count": null,
   "metadata": {},
   "outputs": [],
   "source": [
    "#locate the file and name the variable that will refer to the file\n",
    "part1_file = '/home/hector/Documents/Language_Technology/HW1/ws353.tsv'\n",
    "part2_file = '/home/hector/Documents/Language_Technology/HW1/Results_PPMI'\n",
    "part2_file_tsv = '/home/hector/Documents/Language_Technology/HW1/Results_PPMI.tsv'\n",
    "part3_file = '/home/hector/Documents/Language_Technology/HW1/Results_Word2Vec'\n",
    "part3_file_tsv = '/home/hector/Documents/Language_Technology/HW1/Results_Word2Vec.tsv'\n",
    "\n",
    "#read the data using pandas\n",
    "part1_file_read = pd.read_csv(part1_file, sep='\\t')"
   ]
  },
  {
   "cell_type": "code",
   "execution_count": null,
   "metadata": {},
   "outputs": [],
   "source": [
    "# creates a tsv file from the PPMI results file\n",
    "\n",
    "def tsv_creator(file1, file2):\n",
    "    with open(file1, 'r') as source:\n",
    "        for line in source:\n",
    "            line_list = []\n",
    "            word_results_1 = re.findall(r\"^\\w+\", line)[0]\n",
    "            word_results_2 = re.findall(r\"(?<=\\t)\\w+\", line)[0]\n",
    "            sim_results = re.findall(r\"-?\\d+\\.\\d+$\", line)[0]\n",
    "            line_list.append(word_results_1)\n",
    "            line_list.append(word_results_2)\n",
    "            line_list.append(sim_results)\n",
    "            with open(file2, 'a') as sink:\n",
    "                tsv_writer = csv.writer(sink, delimiter='\\t')\n",
    "                tsv_writer.writerow(line_list)\n",
    "\n",
    "tsv_creator(part3_file, part3_file_tsv)"
   ]
  },
  {
   "cell_type": "code",
   "execution_count": null,
   "metadata": {},
   "outputs": [],
   "source": [
    "#calculates Spearman correlation between human judgement and PPMI and Word2Vec results\n",
    "\n",
    "def spearman (tsv_1, tsv_2):\n",
    "    count_total_pairs = 0\n",
    "    count_supported_pairs = 0\n",
    "    with open(tsv_1, 'r') as tsv_file1:\n",
    "        tsv_ws353 = csv.reader(tsv_file1, delimiter='\\t')\n",
    "        human_list = []\n",
    "        results_list = []\n",
    "        for row_h in tsv_ws353:\n",
    "            count_total_pairs += 1\n",
    "            word_h_1 = row_h[0]\n",
    "            word_h_2 = row_h[1]\n",
    "            human_results = row_h[2]\n",
    "            human_tuple = (word_h_1, word_h_2)\n",
    "            #print(human_tuple, human_results)\n",
    "            with open(tsv_2, 'r') as tsv_file2:\n",
    "                tsv_results = csv.reader(tsv_file2, delimiter='\\t')\n",
    "                for row_r in tsv_results:\n",
    "                    word_results_1 = row_r[0]\n",
    "                    word_results_2 = row_r[1]\n",
    "                    sim_results = row_r[2]\n",
    "                    results_tuple = (word_results_1, word_results_2)\n",
    "                    if human_tuple != results_tuple:\n",
    "                        continue\n",
    "                    elif human_tuple == results_tuple:\n",
    "                        count_supported_pairs += 1\n",
    "                        human_list.append(human_results)\n",
    "                        results_list.append(sim_results)\n",
    "    (stat, p) = scipy.stats.spearmanr(results_list, human_list)\n",
    "    print(f\"Spearman rho:\\t{stat:.4f}\\t(P = {p:.4f})\")\n",
    "    print(\"Supported pairs:\", count_supported_pairs, '\\t', \"Total pairs:\", count_total_pairs)\n",
    "    print('Coverage =', round((count_supported_pairs / count_total_pairs) * 100, 4), '%')\n",
    "\n",
    "spearman(part1_file, part3_file_tsv)"
   ]
  }
 ],
 "metadata": {
  "kernelspec": {
   "display_name": "Python 3",
   "language": "python",
   "name": "python3"
  },
  "language_info": {
   "codemirror_mode": {
    "name": "ipython",
    "version": 3
   },
   "file_extension": ".py",
   "mimetype": "text/x-python",
   "name": "python",
   "nbconvert_exporter": "python",
   "pygments_lexer": "ipython3",
   "version": "3.7.6"
  }
 },
 "nbformat": 4,
 "nbformat_minor": 4
}
