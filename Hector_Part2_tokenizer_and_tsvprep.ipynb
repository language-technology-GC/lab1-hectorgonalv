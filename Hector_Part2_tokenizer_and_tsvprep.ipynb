{
 "cells": [
  {
   "cell_type": "code",
   "execution_count": null,
   "metadata": {},
   "outputs": [],
   "source": [
    "import nltk\n",
    "#assert nltk.download(\"punkt\")"
   ]
  },
  {
   "cell_type": "code",
   "execution_count": null,
   "metadata": {},
   "outputs": [],
   "source": [
    "#creates file with tokenized data\n",
    "\n",
    "news_file = '/home/hector/Documents/Language_Technology/HW1/news.2007.en.shuffled.deduped'\n",
    "news_file_tokenized = '/home/hector/Documents/Language_Technology/HW1/news.2007.en.tokenized.txt'\n",
    "\n",
    "with open(news_file, 'r') as source:\n",
    "    for line in source:\n",
    "        case_folded_line = line.casefold()\n",
    "        tokens = nltk.word_tokenize(case_folded_line)\n",
    "        new_line = \" \".join(tokens)\n",
    "        with open(news_file_tokenized, 'a') as sink:\n",
    "            print(new_line, file=sink)"
   ]
  },
  {
   "cell_type": "code",
   "execution_count": null,
   "metadata": {},
   "outputs": [],
   "source": [
    "# crates tsv file with two columns from the ws353.tsv file\n",
    "\n",
    "partI_pairs = '/home/hector/Documents/Language_Technology/HW1/ws353_pairs.tsv'\n",
    "\n",
    "with open(partI_file, 'r') as tsv_file:\n",
    "    tsv_ws353 = csv.reader(tsv_file, delimiter='\\t')\n",
    "    for row in tsv_ws353:\n",
    "        pair_list = []\n",
    "        word1 = row[0]\n",
    "        word2 = row[1]\n",
    "        pair_list.append(word1)\n",
    "        pair_list.append(word2)\n",
    "        print(pair_list)\n",
    "        with open(partI_pairs, 'a') as sink:\n",
    "            tsv_writer = csv.writer(sink, delimiter='\\t')\n",
    "            tsv_writer.writerow(pair_list)"
   ]
  }
 ],
 "metadata": {
  "kernelspec": {
   "display_name": "Python 3",
   "language": "python",
   "name": "python3"
  },
  "language_info": {
   "codemirror_mode": {
    "name": "ipython",
    "version": 3
   },
   "file_extension": ".py",
   "mimetype": "text/x-python",
   "name": "python",
   "nbconvert_exporter": "python",
   "pygments_lexer": "ipython3",
   "version": "3.7.6"
  }
 },
 "nbformat": 4,
 "nbformat_minor": 4
}
